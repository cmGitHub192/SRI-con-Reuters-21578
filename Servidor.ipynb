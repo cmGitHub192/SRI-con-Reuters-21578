{
 "cells": [
  {
   "cell_type": "markdown",
   "id": "4650f8f8-55e8-4194-872f-74434bf58734",
   "metadata": {},
   "source": [
    "# Fase 7: Interfaz Web de Usuario"
   ]
  },
  {
   "cell_type": "markdown",
   "id": "f0c185f1-a112-4fcd-beac-da6eeefdf749",
   "metadata": {},
   "source": [
    "### Objetivo:\n",
    "El objetivo de esta fase es desarrollar una interfaz de usuario intuitiva y funcional que permita a los usuarios realizar consultas de búsqueda en el motor de búsqueda implementado. La interfaz de usuario debe proporcionar un medio para ingresar consultas, seleccionar el modelo de búsqueda deseado y mostrar los resultados de manera clara y organizada.\n",
    "\n",
    "### Descripción:\n",
    "Durante esta etapa, utilizamos el framework Flask para desarrollar la interfaz de usuario del motor de búsqueda. Creamos un formulario HTML que permite a los usuarios ingresar consultas y seleccionar el modelo de búsqueda (TF-IDF con Coseno o BoW con Jaccard) a utilizar. Al enviar el formulario, la consulta y el modelo seleccionado se envían al servidor Flask, que procesa la consulta y devuelve los resultados correspondientes.\n",
    "\n",
    "### Pasos para la interfaz de usuario:\n",
    "1. **Creación del archivo HTML:**\n",
    "    - El archivo HTML proporciona la estructura y los elementos de la interfaz de usuario, incluido el formulario de búsqueda y el contenedor para mostrar los resultados de la búsqueda. También incluye referencias a la hoja de estilos, a las bibliotecas Bootstrap y jQuery para mejorar el estilo y la funcionalidad de la interfaz.\n",
    "    - En el script de JavaScript se envía una consulta, se activa un evento que procesa la solicitud. Primero, se obtienen la consulta y el modelo seleccionado del formulario. Luego, se envía una solicitud al servidor Flask para procesar la consulta utilizando el modelo elegido. Mientras se espera la respuesta del servidor, se muestra un indicador de carga para mejorar la experiencia del usuario. Una vez que se recibe la respuesta, se maneja para mostrar los resultados en la página. Cada resultado es interactivo y permite al usuario abrir el documento correspondiente en una nueva ventana al hacer clic en él.\n",
    "\n",
    "2. **Configuración del Servidor Flask (app.py):**\n",
    "    - El servidor Flask se encarga de manejar las solicitudes del cliente y procesar la consulta de búsqueda. Define dos rutas principales: '/' para renderizar el formulario de búsqueda y '/process' para procesar la consulta enviada por el usuario. Se utiliza el método POST para enviar datos de consulta al servidor.\n",
    "\n",
    "3. **Manejo de Consultas (app.py):**\n",
    "    - Cuando el usuario envía una consulta de búsqueda a través del formulario, el servidor Flask procesa la consulta y el modelo seleccionado (TF-IDF con Coseno o BoW con Jaccard). Se valida la consulta y el modelo antes de pasarlos al motor de búsqueda para recuperar los resultados correspondientes.\n",
    "\n",
    "4. **Renderización de Resultados (app.py y index.html):**\n",
    "    - Una vez que se procesa la consulta, los resultados se envían de vuelta al cliente y se muestran en la interfaz de usuario. Los documentos recuperados se muestran en una lista dentro del contenedor de resultados. Se proporciona la opción de hacer clic en cada resultado para ver el documento completo.\n",
    "\n",
    "5. **Manejo de Errores (app.py y index.html):**\n",
    "    - Se implementa la gestión de errores en el servidor Flask para manejar situaciones como consultas vacías o modelos de búsqueda no válidos. Los mensajes de error se muestran en la interfaz de usuario para informar al usuario sobre cualquier problema que surja durante el proceso de búsqueda."
   ]
  },
  {
   "cell_type": "code",
   "execution_count": 1,
   "id": "f280e2d2-ba66-4ec3-83df-31016b7919f6",
   "metadata": {},
   "outputs": [
    {
     "name": "stderr",
     "output_type": "stream",
     "text": [
      "[NbConvertApp] Converting notebook SRI con Reuters.ipynb to script\n",
      "[NbConvertApp] Writing 23229 bytes to SRI con Reuters.py\n"
     ]
    }
   ],
   "source": [
    "!jupyter nbconvert --to script \"SRI con Reuters.ipynb\""
   ]
  },
  {
   "cell_type": "code",
   "execution_count": 2,
   "id": "08233cfb-41b2-47fe-ac69-988570b7a619",
   "metadata": {},
   "outputs": [],
   "source": [
    "!rename \"SRI con Reuters.py\" SRI_con_Reuter.py"
   ]
  },
  {
   "cell_type": "code",
   "execution_count": 3,
   "id": "4a4bd3df-bc4e-45d9-bd5d-65a91fb8a94e",
   "metadata": {},
   "outputs": [
    {
     "name": "stdout",
     "output_type": "stream",
     "text": [
      "Requirement already satisfied: Flask in c:\\users\\user\\appdata\\local\\programs\\python\\python38\\lib\\site-packages (3.0.3)\n",
      "Requirement already satisfied: Werkzeug>=3.0.0 in c:\\users\\user\\appdata\\local\\programs\\python\\python38\\lib\\site-packages (from Flask) (3.0.2)\n",
      "Requirement already satisfied: Jinja2>=3.1.2 in c:\\users\\user\\appdata\\local\\programs\\python\\python38\\lib\\site-packages (from Flask) (3.1.2)\n",
      "Requirement already satisfied: itsdangerous>=2.1.2 in c:\\users\\user\\appdata\\local\\programs\\python\\python38\\lib\\site-packages (from Flask) (2.2.0)\n",
      "Requirement already satisfied: click>=8.1.3 in c:\\users\\user\\appdata\\local\\programs\\python\\python38\\lib\\site-packages (from Flask) (8.1.7)\n",
      "Requirement already satisfied: blinker>=1.6.2 in c:\\users\\user\\appdata\\local\\programs\\python\\python38\\lib\\site-packages (from Flask) (1.7.0)\n",
      "Requirement already satisfied: importlib-metadata>=3.6.0 in c:\\users\\user\\appdata\\local\\programs\\python\\python38\\lib\\site-packages (from Flask) (6.8.0)\n",
      "Requirement already satisfied: colorama in c:\\users\\user\\appdata\\local\\programs\\python\\python38\\lib\\site-packages (from click>=8.1.3->Flask) (0.4.6)\n",
      "Requirement already satisfied: zipp>=0.5 in c:\\users\\user\\appdata\\local\\programs\\python\\python38\\lib\\site-packages (from importlib-metadata>=3.6.0->Flask) (3.17.0)\n",
      "Requirement already satisfied: MarkupSafe>=2.0 in c:\\users\\user\\appdata\\local\\programs\\python\\python38\\lib\\site-packages (from Jinja2>=3.1.2->Flask) (2.1.3)\n",
      "Requirement already satisfied: gunicorn in c:\\users\\user\\appdata\\local\\programs\\python\\python38\\lib\\site-packages (22.0.0)\n",
      "Requirement already satisfied: packaging in c:\\users\\user\\appdata\\local\\programs\\python\\python38\\lib\\site-packages (from gunicorn) (23.2)\n",
      "Requirement already satisfied: waitress in c:\\users\\user\\appdata\\local\\programs\\python\\python38\\lib\\site-packages (3.0.0)\n"
     ]
    }
   ],
   "source": [
    "# Instalar Flask\n",
    "!pip install Flask\n",
    "!pip install gunicorn\n",
    "!pip install waitress"
   ]
  },
  {
   "cell_type": "code",
   "execution_count": 4,
   "id": "cf339e4c-b463-4e79-8e29-3c5a04cb6536",
   "metadata": {},
   "outputs": [
    {
     "name": "stdout",
     "output_type": "stream",
     "text": [
      "Overwriting wsgi.py\n"
     ]
    }
   ],
   "source": [
    "%%writefile wsgi.py\n",
    "from busqueda import app as application\n",
    "\n",
    "if __name__ == \"__main__\":\n",
    "    application.run()"
   ]
  },
  {
   "cell_type": "code",
   "execution_count": null,
   "id": "6e0e7fbb-28a7-4b56-a01d-a0faf37841e0",
   "metadata": {},
   "outputs": [
    {
     "name": "stderr",
     "output_type": "stream",
     "text": [
      "[nltk_data] Downloading package punkt to\n",
      "[nltk_data]     C:\\Users\\User\\AppData\\Roaming\\nltk_data...\n",
      "[nltk_data]   Package punkt is already up-to-date!\n"
     ]
    },
    {
     "name": "stdout",
     "output_type": "stream",
     "text": [
      "Processed documents saved to processed_documents.txt\n",
      "Cargando índice invertido desde: C:\\Users\\User\\Documents\\Universidad\\7 semestre\\Recuperación Info\\Proyecto 2.0\\ProyectoDefinitivo2\\Proyecto_Data\\results\\indice_tf_idf.txt\n",
      "Consulta procesada: coffe\n",
      "Resultados de la búsqueda: ['10014.txt', '10100.txt', '1026.txt', '10268.txt', '1030.txt', '10375.txt', '10406.txt', '10640.txt', '10682.txt', '10693.txt', '10752.txt', '1085.txt', '10876.txt', '10902.txt', '10959.txt', '11183.txt', '11224.txt', '11265.txt', '11341.txt', '11372.txt', '11462.txt', '11816.txt', '11866.txt', '11882.txt', '11949.txt', '12008.txt', '12011.txt', '1207.txt', '1212.txt', '12152.txt', '12208.txt', '12340.txt', '12355.txt', '12399.txt', '12424.txt', '12426.txt', '1246.txt', '12465.txt', '12490.txt', '12814.txt', '12843.txt', '1312.txt', '13170.txt', '13190.txt', '13201.txt', '13242.txt', '13269.txt', '13834.txt', '14418.txt', '14698.txt', '1579.txt', '1715.txt', '1723.txt', '1842.txt', '1880.txt', '1889.txt', '1910.txt', '1960.txt', '2115.txt', '232.txt', '235.txt', '2467.txt', '249.txt', '2521.txt', '2550.txt', '2553.txt', '2606.txt', '275.txt', '290.txt', '2954.txt', '3034.txt', '3040.txt', '3187.txt', '3310.txt', '3559.txt', '3955.txt', '402.txt', '4063.txt', '4071.txt', '4132.txt', '4147.txt', '42.txt', '4267.txt', '4349.txt', '4564.txt', '4603.txt', '4634.txt', '4744.txt', '4785.txt', '5002.txt', '5057.txt', '5134.txt', '5238.txt', '5258.txt', '5334.txt', '5471.txt', '5491.txt', '5570.txt', '562.txt', '5684.txt', '5692.txt', '6338.txt', '6595.txt', '6632.txt', '6758.txt', '6912.txt', '7104.txt', '7124.txt', '7143.txt', '7367.txt', '7406.txt', '75.txt', '754.txt', '7888.txt', '8105.txt', '8149.txt', '8193.txt', '8200.txt', '842.txt', '875.txt', '8903.txt', '8950.txt', '9153.txt', '9265.txt', '9654.txt', '9680.txt', '977.txt']\n",
      "Servidor en ejecución en http://127.0.0.1:5000\n",
      "Cargando índice invertido desde: C:\\Users\\User\\Documents\\Universidad\\7 semestre\\Recuperación Info\\Proyecto 2.0\\ProyectoDefinitivo2\\Proyecto_Data\\results\\indice_tf_idf.txt\n",
      "Consulta procesada: cocoa\n",
      "Cargando índice invertido desde: C:\\Users\\User\\Documents\\Universidad\\7 semestre\\Recuperación Info\\Proyecto 2.0\\ProyectoDefinitivo2\\Proyecto_Data\\results\\indice_bow.txt\n",
      "Consulta procesada: cocoa\n"
     ]
    }
   ],
   "source": [
    "from flask import Flask, request, jsonify, render_template\n",
    "from waitress import serve\n",
    "from SRI_con_Reuter import results  # Importar desde el script renombrado\n",
    "\n",
    "app = Flask(__name__)\n",
    "\n",
    "@app.route('/')\n",
    "def index():\n",
    "    return render_template('index.html')\n",
    "\n",
    "@app.route('/process', methods=['POST'])\n",
    "def process():\n",
    "    try:\n",
    "        data = request.json\n",
    "        query = data.get('query')\n",
    "        model = data.get('model')\n",
    "\n",
    "        if not query:\n",
    "            return jsonify({'error': 'No query provided'}), 400\n",
    "\n",
    "        if model == \"0\":  # TF-IDF con Coseno\n",
    "            tv = \"0\"\n",
    "            tr = \"1\"\n",
    "        elif model == \"1\":  # BoW con Jaccard\n",
    "            tv = \"1\"\n",
    "            tr = \"0\"\n",
    "        else:\n",
    "            return jsonify({'error': 'Invalid model selection'}), 400\n",
    "\n",
    "        search_results = results(query, tv, tr)\n",
    "        return jsonify({'result': search_results})\n",
    "\n",
    "    except ValueError as e:\n",
    "        print(f\"ValueError: {str(e)}\")\n",
    "        return jsonify({'error': str(e)}), 400\n",
    "    except Exception as e:\n",
    "        print(f\"Exception: {str(e)}\")\n",
    "        return jsonify({'error': 'Internal Server Error', 'details': str(e)}), 500\n",
    "\n",
    "if __name__ == '__main__' and '__file__' not in globals():\n",
    "    host = '127.0.0.1'\n",
    "    port = 5000\n",
    "    print(f\"Servidor en ejecución en http://{host}:{port}\")\n",
    "    serve(app, host=host, port=port)"
   ]
  },
  {
   "cell_type": "code",
   "execution_count": null,
   "id": "45a67350-efe4-44fc-a00b-1a80f761cb13",
   "metadata": {},
   "outputs": [],
   "source": []
  }
 ],
 "metadata": {
  "kernelspec": {
   "display_name": "Python 3 (ipykernel)",
   "language": "python",
   "name": "python3"
  },
  "language_info": {
   "codemirror_mode": {
    "name": "ipython",
    "version": 3
   },
   "file_extension": ".py",
   "mimetype": "text/x-python",
   "name": "python",
   "nbconvert_exporter": "python",
   "pygments_lexer": "ipython3",
   "version": "3.8.10"
  }
 },
 "nbformat": 4,
 "nbformat_minor": 5
}
