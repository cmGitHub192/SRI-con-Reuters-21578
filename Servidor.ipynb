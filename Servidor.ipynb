{
 "cells": [
  {
   "cell_type": "markdown",
   "id": "2aa7acc0-e230-40b7-9e41-2eb33ed51741",
   "metadata": {},
   "source": [
    "# Fase 7: Interfaz Web de Usuario"
   ]
  },
  {
   "cell_type": "markdown",
   "id": "31174cea-6038-43cb-93a3-45d4ada32b82",
   "metadata": {},
   "source": [
    "### Objetivo:\n",
    "El objetivo de esta fase es desarrollar una interfaz de usuario intuitiva y funcional que permita a los usuarios realizar consultas de búsqueda en el motor de búsqueda implementado. La interfaz de usuario debe proporcionar un medio para ingresar consultas, seleccionar el modelo de búsqueda deseado y mostrar los resultados de manera clara y organizada.\n",
    "\n",
    "### Descripción:\n",
    "Durante esta etapa, utilizamos el framework Flask para desarrollar la interfaz de usuario del motor de búsqueda. Creamos un formulario HTML que permite a los usuarios ingresar consultas y seleccionar el modelo de búsqueda (TF-IDF con Coseno o BoW con Jaccard) a utilizar. Al enviar el formulario, la consulta y el modelo seleccionado se envían al servidor Flask, que procesa la consulta y devuelve los resultados correspondientes.\n",
    "\n",
    "### Pasos para la interfaz de usuario:\n",
    "1. **Creación del archivo HTML:**\n",
    "    - El archivo HTML proporciona la estructura y los elementos de la interfaz de usuario, incluido el formulario de búsqueda y el contenedor para mostrar los resultados de la búsqueda. También incluye referencias a la hoja de estilos, a las bibliotecas Bootstrap y jQuery para mejorar el estilo y la funcionalidad de la interfaz.\n",
    "    - En el script de JavaScript se envía una consulta, se activa un evento que procesa la solicitud. Primero, se obtienen la consulta y el modelo seleccionado del formulario. Luego, se envía una solicitud al servidor Flask para procesar la consulta utilizando el modelo elegido. Mientras se espera la respuesta del servidor, se muestra un indicador de carga para mejorar la experiencia del usuario. Una vez que se recibe la respuesta, se maneja para mostrar los resultados en la página. Cada resultado es interactivo y permite al usuario abrir el documento correspondiente en una nueva ventana al hacer clic en él.\n",
    "\n",
    "2. **Configuración del Servidor Flask (app.py):**\n",
    "    - El servidor Flask se encarga de manejar las solicitudes del cliente y procesar la consulta de búsqueda. Define dos rutas principales: '/' para renderizar el formulario de búsqueda y '/process' para procesar la consulta enviada por el usuario. Se utiliza el método POST para enviar datos de consulta al servidor.\n",
    "\n",
    "3. **Manejo de Consultas (app.py):**\n",
    "    - Cuando el usuario envía una consulta de búsqueda a través del formulario, el servidor Flask procesa la consulta y el modelo seleccionado (TF-IDF  o BoW). Se valida la consulta y el modelo antes de pasarlos al motor de búsqueda para recuperar los resultados correspondientes.\n",
    "\n",
    "4. **Renderización de Resultados (app.py y index.html):**\n",
    "    - Una vez que se procesa la consulta, los resultados se envían de vuelta al cliente y se muestran en la interfaz de usuario. Los documentos recuperados se muestran en una lista dentro del contenedor de resultados. Se proporciona la opción de hacer clic en cada resultado para ver el documento completo.\n",
    "\n",
    "5. **Manejo de Errores (app.py y index.html):**\n",
    "    - Se implementa la gestión de errores en el servidor Flask para manejar situaciones como consultas vacías o modelos de búsqueda no válidos. Los mensajes de error se muestran en la interfaz de usuario para informar al usuario sobre cualquier problema que surja durante el proceso de búsqueda."
   ]
  },
  {
   "cell_type": "code",
   "execution_count": 1,
   "id": "f1947e4e-1d9c-40e3-83a8-41152dc8ea10",
   "metadata": {},
   "outputs": [
    {
     "name": "stdout",
     "output_type": "stream",
     "text": [
      "Requirement already satisfied: Flask in c:\\users\\user\\appdata\\local\\programs\\python\\python38\\lib\\site-packages (3.0.3)\n",
      "Requirement already satisfied: Werkzeug>=3.0.0 in c:\\users\\user\\appdata\\local\\programs\\python\\python38\\lib\\site-packages (from Flask) (3.0.2)\n",
      "Requirement already satisfied: Jinja2>=3.1.2 in c:\\users\\user\\appdata\\local\\programs\\python\\python38\\lib\\site-packages (from Flask) (3.1.2)\n",
      "Requirement already satisfied: itsdangerous>=2.1.2 in c:\\users\\user\\appdata\\local\\programs\\python\\python38\\lib\\site-packages (from Flask) (2.2.0)\n",
      "Requirement already satisfied: click>=8.1.3 in c:\\users\\user\\appdata\\local\\programs\\python\\python38\\lib\\site-packages (from Flask) (8.1.7)\n",
      "Requirement already satisfied: blinker>=1.6.2 in c:\\users\\user\\appdata\\local\\programs\\python\\python38\\lib\\site-packages (from Flask) (1.7.0)\n",
      "Requirement already satisfied: importlib-metadata>=3.6.0 in c:\\users\\user\\appdata\\local\\programs\\python\\python38\\lib\\site-packages (from Flask) (6.8.0)\n",
      "Requirement already satisfied: colorama in c:\\users\\user\\appdata\\local\\programs\\python\\python38\\lib\\site-packages (from click>=8.1.3->Flask) (0.4.6)\n",
      "Requirement already satisfied: zipp>=0.5 in c:\\users\\user\\appdata\\local\\programs\\python\\python38\\lib\\site-packages (from importlib-metadata>=3.6.0->Flask) (3.17.0)\n",
      "Requirement already satisfied: MarkupSafe>=2.0 in c:\\users\\user\\appdata\\local\\programs\\python\\python38\\lib\\site-packages (from Jinja2>=3.1.2->Flask) (2.1.3)\n",
      "Requirement already satisfied: gunicorn in c:\\users\\user\\appdata\\local\\programs\\python\\python38\\lib\\site-packages (22.0.0)\n",
      "Requirement already satisfied: packaging in c:\\users\\user\\appdata\\local\\programs\\python\\python38\\lib\\site-packages (from gunicorn) (23.2)\n",
      "Requirement already satisfied: waitress in c:\\users\\user\\appdata\\local\\programs\\python\\python38\\lib\\site-packages (3.0.0)\n"
     ]
    }
   ],
   "source": [
    "# Instalar Flask\n",
    "!pip install Flask\n",
    "!pip install gunicorn\n",
    "!pip install waitress"
   ]
  },
  {
   "cell_type": "code",
   "execution_count": 1,
   "id": "b8abcd65-5560-47c1-8859-8d6548e6dfbb",
   "metadata": {},
   "outputs": [
    {
     "name": "stderr",
     "output_type": "stream",
     "text": [
      "[nltk_data] Downloading package punkt to\n",
      "[nltk_data]     C:\\Users\\User\\AppData\\Roaming\\nltk_data...\n",
      "[nltk_data]   Package punkt is already up-to-date!\n"
     ]
    },
    {
     "name": "stdout",
     "output_type": "stream",
     "text": [
      "Ãƒndice invertido guardado en inverted_index.txt\n",
      "Busqueda para la query: lin-oil\n",
      "Resultados ordenados (nombre y distancia):\n",
      "Nombre: 6.txt, Distancia: 0.06864310990282788\n",
      "\n",
      "Nombres de documentos ordenados:\n",
      "6.txt\n",
      "Busqueda para la query: lin-oil\n",
      "Resultados ordenados (nombre y distancia):\n",
      "Nombre: 6.txt, Distancia: 0.15617376188860607\n",
      "\n",
      "Nombres de documentos ordenados:\n",
      "6.txt\n"
     ]
    }
   ],
   "source": [
    "from ipynb.fs.full.SRI_Reuters_converted import buscar_documentos"
   ]
  },
  {
   "cell_type": "code",
   "execution_count": 2,
   "id": "482aaf84-ecb6-45a9-ab25-f0fb545fddc3",
   "metadata": {},
   "outputs": [
    {
     "name": "stdout",
     "output_type": "stream",
     "text": [
      "Overwriting wsgi.py\n"
     ]
    }
   ],
   "source": [
    "%%writefile wsgi.py\n",
    "from busqueda import app as application\n",
    "\n",
    "if __name__ == \"__main__\":\n",
    "    application.run()"
   ]
  },
  {
   "cell_type": "code",
   "execution_count": 3,
   "id": "afa35fab-8394-4bfb-b4d6-2128d73267df",
   "metadata": {},
   "outputs": [
    {
     "name": "stdout",
     "output_type": "stream",
     "text": [
      "Servidor en ejecución en http://127.0.0.1:5000\n"
     ]
    }
   ],
   "source": [
    "from flask import Flask, request, jsonify, render_template\n",
    "from waitress import serve\n",
    "\n",
    "app = Flask(__name__)\n",
    "\n",
    "@app.route('/')\n",
    "def index():\n",
    "    return render_template('index.html')\n",
    "\n",
    "@app.route('/process', methods=['POST'])\n",
    "def process():\n",
    "    try:\n",
    "        data = request.json\n",
    "        query = data.get('query')\n",
    "        model = data.get('model')\n",
    "\n",
    "        if not query:\n",
    "            return jsonify({'error': 'No query provided'}), 400\n",
    "\n",
    "        if model == \"0\":  # TF-IDF con Coseno\n",
    "            vectorizer_type = 'TF-IDF'\n",
    "        elif model == \"1\":  # BoW con Jaccard\n",
    "            vectorizer_type = 'BoW'\n",
    "        else:\n",
    "            return jsonify({'error': 'Invalid model selection'}), 400\n",
    "\n",
    "        resultados_ordenados, nombres_ordenados = buscar_documentos(query, vectorizer_type)\n",
    "        return jsonify({'result': nombres_ordenados})\n",
    "\n",
    "    except ValueError as e:\n",
    "        print(f\"ValueError: {str(e)}\")\n",
    "        return jsonify({'error': str(e)}), 400\n",
    "    except Exception as e:\n",
    "        print(f\"Exception: {str(e)}\")\n",
    "        return jsonify({'error': 'Internal Server Error', 'details': str(e)}), 500\n",
    "\n",
    "if __name__ == '__main__' and '__file__' not in globals():\n",
    "    host = '127.0.0.1'\n",
    "    port = 5000\n",
    "    print(f\"Servidor en ejecución en http://{host}:{port}\")\n",
    "    serve(app, host=host, port=port)\n"
   ]
  },
  {
   "cell_type": "code",
   "execution_count": null,
   "id": "c7edfe21-8ccd-4a56-8581-ebb6f9a89fe4",
   "metadata": {},
   "outputs": [],
   "source": []
  }
 ],
 "metadata": {
  "kernelspec": {
   "display_name": "Python 3 (ipykernel)",
   "language": "python",
   "name": "python3"
  },
  "language_info": {
   "codemirror_mode": {
    "name": "ipython",
    "version": 3
   },
   "file_extension": ".py",
   "mimetype": "text/x-python",
   "name": "python",
   "nbconvert_exporter": "python",
   "pygments_lexer": "ipython3",
   "version": "3.8.10"
  }
 },
 "nbformat": 4,
 "nbformat_minor": 5
}
