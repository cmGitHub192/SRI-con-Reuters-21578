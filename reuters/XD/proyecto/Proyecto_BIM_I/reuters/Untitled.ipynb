{
 "cells": [
  {
   "cell_type": "code",
   "execution_count": null,
   "id": "54948a11-e388-4ff3-8f34-4bbd5988c88c",
   "metadata": {},
   "outputs": [],
   "source": [
    "import os\n",
    "from bs4 import BeautifulSoup\n",
    "\n",
    "def leer_documentos(directorio):\n",
    "    documentos = []\n",
    "    for filename in os.listdir(directorio):\n",
    "        if filename.endswith(\".sgm\"):\n",
    "            filepath = os.path.join(directorio, filename)\n",
    "            with open(filepath, 'r', encoding='latin-1') as file:\n",
    "                contenido = file.read()\n",
    "                soup = BeautifulSoup(contenido, 'html.parser')\n",
    "                textos = soup.find_all('reuters')\n",
    "                for texto in textos:\n",
    "                    if texto.body:\n",
    "                        documentos.append(texto.body.get_text())\n",
    "    return documentos\n",
    "\n",
    "directorio = './reuters/training'\n",
    "documentos = leer_documentos(directorio)\n",
    "print(f'Se han leído {len(documentos)} documentos.')\n"
   ]
  }
 ],
 "metadata": {
  "kernelspec": {
   "display_name": "Python 3 (ipykernel)",
   "language": "python",
   "name": "python3"
  },
  "language_info": {
   "codemirror_mode": {
    "name": "ipython",
    "version": 3
   },
   "file_extension": ".py",
   "mimetype": "text/x-python",
   "name": "python",
   "nbconvert_exporter": "python",
   "pygments_lexer": "ipython3",
   "version": "3.11.7"
  }
 },
 "nbformat": 4,
 "nbformat_minor": 5
}
