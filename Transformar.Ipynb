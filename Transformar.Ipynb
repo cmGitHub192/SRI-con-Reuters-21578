import io

# Ruta del archivo original y el nuevo archivo convertido
original_file_path = 'SRI_Reuters.ipynb'
converted_file_path = 'SRI_Reuters_converted.ipynb'

# Leer el archivo original en modo binario
with open(original_file_path, 'rb') as f:
    content = f.read()

# Decodificar el contenido ignorando los errores
content_decoded = content.decode('cp1252', errors='ignore')

# Escribir el contenido en un nuevo archivo con codificación UTF-8
with io.open(converted_file_path, 'w', encoding='utf-8') as f:
    f.write(content_decoded)

print(f"Archivo convertido y guardado en {converted_file_path}")

import json
import io

# Leer el archivo convertido con la codificación correcta
with io.open(converted_file_path, 'r', encoding='utf-8') as f:
    nb = json.load(f)

import nbformat

try:
    with io.open(converted_file_path, 'r', encoding='utf-8') as f:
        nb = nbformat.read(f, as_version=4)
    print("Archivo cargado correctamente")
except Exception as e:
    print(f"Error al leer el cuaderno: {e}")